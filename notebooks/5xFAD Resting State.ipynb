{
 "cells": [
  {
   "metadata": {},
   "cell_type": "markdown",
   "source": "# 5xFAD Resting State Analysis",
   "id": "fb0e3ee6a9d908ef"
  },
  {
   "cell_type": "code",
   "id": "initial_id",
   "metadata": {
    "collapsed": true,
    "ExecuteTime": {
     "end_time": "2025-06-04T08:10:31.611445Z",
     "start_time": "2025-06-04T08:10:30.838100Z"
    }
   },
   "source": [
    "import os\n",
    "import pickle\n",
    "import scienceplots\n",
    "import numpy as np\n",
    "from matplotlib import pyplot as plt\n",
    "from scipy.ndimage import gaussian_filter1d\n",
    "from scipy.stats import zscore\n",
    "from scipy.spatial.distance import pdist, squareform\n",
    "\n",
    "plt.style.use(['science', 'grid'])\n",
    "plt.rc('figure', titlesize = 33, figsize = (21, 7), dpi = 210)\n",
    "plt.rc('axes', titlesize = 27, labelsize = 21, titlepad = 21)\n",
    "plt.rc('xtick', labelsize = 17)\n",
    "plt.rc('ytick', labelsize = 17)"
   ],
   "outputs": [],
   "execution_count": 1
  },
  {
   "metadata": {
    "ExecuteTime": {
     "end_time": "2025-06-04T08:10:36.555544Z",
     "start_time": "2025-06-04T08:10:36.552811Z"
    }
   },
   "cell_type": "code",
   "source": [
    "source = '/Volumes/STORAGE 1.0/UNIC Research/5xFAD Resting State'\n",
    "channels = [3, 4, 5, 6, 7, 8]\n",
    "sampling_rate = 30000\n",
    "output = '/Users/fomo/Documents/Research/UNIC Research/Motor Evoked Potentials/resting state analysis'"
   ],
   "id": "1e33cc5b5fcdddb3",
   "outputs": [],
   "execution_count": 2
  },
  {
   "metadata": {
    "ExecuteTime": {
     "end_time": "2025-06-04T09:43:03.680667Z",
     "start_time": "2025-06-04T09:43:03.662059Z"
    }
   },
   "cell_type": "code",
   "source": [
    "import importlib\n",
    "import openephysextract.extractor\n",
    "import openephysextract.preprocess\n",
    "import openephysextract.progress\n",
    "import openephysextract.trial\n",
    "\n",
    "importlib.reload(openephysextract.extractor)\n",
    "importlib.reload(openephysextract.progress)\n",
    "importlib.reload(openephysextract.trial)\n",
    "importlib.reload(openephysextract.preprocess)"
   ],
   "id": "aec80d5dcaa04bc6",
   "outputs": [
    {
     "data": {
      "text/plain": [
       "<module 'openephysextract.preprocess' from '/Users/fomo/Documents/Kaizen/code/motor-evoked-potentials/openephysextract/preprocess.py'>"
      ]
     },
     "execution_count": 109,
     "metadata": {},
     "output_type": "execute_result"
    }
   ],
   "execution_count": 109
  },
  {
   "metadata": {},
   "cell_type": "markdown",
   "source": "## preprocessing",
   "id": "1f8bd0d10694f81f"
  },
  {
   "metadata": {
    "ExecuteTime": {
     "end_time": "2025-06-04T09:13:21.070117Z",
     "start_time": "2025-06-04T09:13:16.029561Z"
    }
   },
   "cell_type": "code",
   "source": [
    "from openephysextract.extractor import Extractor  \n",
    "\n",
    "extractor = Extractor(\n",
    "    source = source,\n",
    "    channels = channels,\n",
    "    sampling_rate = sampling_rate,\n",
    "    output = output,\n",
    ")\n",
    "\n",
    "test = extractor.extractify(n = 3, export = False)"
   ],
   "id": "98fb375d10a268a0",
   "outputs": [
    {
     "data": {
      "text/plain": [
       "Extracting Trials:   0%|                                                                                      …"
      ],
      "application/vnd.jupyter.widget-view+json": {
       "version_major": 2,
       "version_minor": 0,
       "model_id": "15fb28972f5045dbb0a47dfdc18197b0"
      }
     },
     "metadata": {},
     "output_type": "display_data"
    }
   ],
   "execution_count": 78
  },
  {
   "metadata": {
    "ExecuteTime": {
     "end_time": "2025-06-04T09:35:27.659758Z",
     "start_time": "2025-06-04T09:35:23.586259Z"
    }
   },
   "cell_type": "code",
   "source": [
    "with open(os.path.join(output, 'raw_data.pkl'), 'rb') as f:\n",
    "    extracted = pickle.load(f)"
   ],
   "id": "81effff10e5fe7c",
   "outputs": [],
   "execution_count": 98
  },
  {
   "metadata": {
    "ExecuteTime": {
     "end_time": "2025-06-04T09:36:09.152938Z",
     "start_time": "2025-06-04T09:36:09.137325Z"
    }
   },
   "cell_type": "code",
   "source": [
    "from openephysextract.preprocess import Preprocessor\n",
    "\n",
    "preprocessor = Preprocessor(\n",
    "    trials = extracted,\n",
    "    channels = channels,\n",
    "    sampling_rate = sampling_rate,\n",
    "    output = output,\n",
    ")\n",
    "    "
   ],
   "id": "d4171b8dfab4308",
   "outputs": [
    {
     "ename": "AttributeError",
     "evalue": "'Trial' object has no attribute 'shape'",
     "output_type": "error",
     "traceback": [
      "\u001B[0;31m---------------------------------------------------------------------------\u001B[0m",
      "\u001B[0;31mAttributeError\u001B[0m                            Traceback (most recent call last)",
      "Cell \u001B[0;32mIn[104], line 2\u001B[0m\n\u001B[1;32m      1\u001B[0m test \u001B[38;5;241m=\u001B[39m extracted[\u001B[38;5;241m0\u001B[39m]\n\u001B[0;32m----> 2\u001B[0m \u001B[43mtest\u001B[49m\u001B[38;5;241;43m.\u001B[39;49m\u001B[43mshape\u001B[49m\n",
      "\u001B[0;31mAttributeError\u001B[0m: 'Trial' object has no attribute 'shape'"
     ]
    }
   ],
   "execution_count": 104
  },
  {
   "metadata": {
    "ExecuteTime": {
     "end_time": "2025-06-04T09:37:53.493564Z",
     "start_time": "2025-06-04T09:37:52.040259Z"
    }
   },
   "cell_type": "code",
   "source": [
    "\n",
    "\n",
    "\n",
    "\n",
    "test_extract = extractify(test, alpha = 1, beta = 0)\n"
   ],
   "id": "871814ec5dac7ef4",
   "outputs": [
    {
     "name": "stdout",
     "output_type": "stream",
     "text": [
      "Bad channel indices (relative to chs): [5]\n",
      "Mean distances: \n",
      " [[1.         0.60067981 0.51219613 0.74679938 0.70554167 0.99790374]\n",
      " [0.60067981 1.         0.48842748 0.48288585 0.61144541 0.99693582]\n",
      " [0.51219613 0.48842748 1.         0.57800092 0.43398215 0.99803095]\n",
      " [0.74679938 0.48288585 0.57800092 1.         0.48097581 0.99990079]\n",
      " [0.70554167 0.61144541 0.43398215 0.48097581 1.         1.        ]\n",
      " [0.99790374 0.99693582 0.99803095 0.99990079 1.         1.        ]]\n",
      "Cutoff value: 0.8796576698005448\n"
     ]
    }
   ],
   "execution_count": 107
  },
  {
   "metadata": {
    "ExecuteTime": {
     "end_time": "2025-06-04T09:37:55.567707Z",
     "start_time": "2025-06-04T09:37:55.563281Z"
    }
   },
   "cell_type": "code",
   "source": "test_extract.shape",
   "id": "7bc18d47c8341167",
   "outputs": [
    {
     "data": {
      "text/plain": [
       "(5, 10596741)"
      ]
     },
     "execution_count": 108,
     "metadata": {},
     "output_type": "execute_result"
    }
   ],
   "execution_count": 108
  },
  {
   "metadata": {},
   "cell_type": "code",
   "source": [
    "def plotify(extract, start, stop):\n",
    "    \n",
    "    n = extract.shape[0]\n",
    "    \n",
    "    fig, axs = plt.subplots(n, 1, figsize=(21, n*3 + 3), sharex = False)\n",
    "\n",
    "    for i in range(n):\n",
    "        \n",
    "        start = 0\n",
    "        stop = 10*30000\n",
    "        \n",
    "        test_z = (extract[i, start:stop] - extract[i, :].mean())/ extract[i, :].std()\n",
    "        test_z = gaussian_filter1d(test_z, sigma = 7)\n",
    "\n",
    "        time_axis_ms = np.arange(len(test_z)) / 30000 + start / 30000\n",
    "\n",
    "        axs[i].plot(time_axis_ms, test_z, color = 'red')\n",
    "        axs[i].fill_between(\n",
    "            time_axis_ms, test_z - 1, test_z + 1, color = 'purple', alpha = 0.2\n",
    "        )\n",
    "        axs[i].set_title(channel_names[i])\n",
    "        axs[i].set_xlabel('Time (Seconds)')\n",
    "        axs[i].set_ylabel('Amplitude')\n",
    "\n",
    "    fig.suptitle('Raw Data for all Channels')\n",
    "    plt.tight_layout()\n",
    "    plt.show()\n",
    "    \n",
    "plotify(test_extract, start = 0.2*(10**7), stop = 0.4*(10**7))"
   ],
   "id": "d772e28b1a954559",
   "outputs": [],
   "execution_count": null
  },
  {
   "metadata": {},
   "cell_type": "markdown",
   "source": "## preprocessing",
   "id": "29403da1af8bf4d2"
  },
  {
   "metadata": {},
   "cell_type": "code",
   "source": [
    "preprocessed = [None] * len(extracted)\n",
    "\n",
    "for i, data in enumerate(extracted):\n",
    "    preprocessed[i] = extractify(data, alpha = 0.5, beta = 0.5)\n",
    "    \n",
    "with open('/Users/fomo/Documents/Research/UNIC Research/Motor Evoked Potentials Test/resting_state_preprocessed.pkl', 'wb') as f:\n",
    "    pickle.dump(preprocessed, f)\n"
   ],
   "id": "b4aa978e619e48b0",
   "outputs": [],
   "execution_count": null
  }
 ],
 "metadata": {
  "kernelspec": {
   "display_name": "Python 3",
   "language": "python",
   "name": "python3"
  },
  "language_info": {
   "codemirror_mode": {
    "name": "ipython",
    "version": 2
   },
   "file_extension": ".py",
   "mimetype": "text/x-python",
   "name": "python",
   "nbconvert_exporter": "python",
   "pygments_lexer": "ipython2",
   "version": "2.7.6"
  }
 },
 "nbformat": 4,
 "nbformat_minor": 5
}
