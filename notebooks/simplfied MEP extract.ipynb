{
 "cells": [
  {
   "metadata": {},
   "cell_type": "markdown",
   "source": "# MEPs in diseased vs healthy mice",
   "id": "e6ec9d83a8c72b39"
  },
  {
   "cell_type": "code",
   "id": "initial_id",
   "metadata": {
    "collapsed": true,
    "ExecuteTime": {
     "end_time": "2024-12-21T15:14:23.387160Z",
     "start_time": "2024-12-21T15:14:22.143068Z"
    }
   },
   "source": [
    "from tqdm import tqdm\n",
    "from mepextract.extracting import Extractor\n",
    "from mepextract.extracting import Viewer\n",
    "\n",
    "import pandas as pd\n",
    "import numpy as np\n",
    "import matplotlib.pyplot as plt\n",
    "import scienceplots\n",
    "import os\n",
    "import pickle\n",
    "import json\n",
    "\n",
    "plt.style.use(['science', 'grid', 'vibrant'])"
   ],
   "outputs": [],
   "execution_count": 1
  },
  {
   "metadata": {},
   "cell_type": "markdown",
   "source": "## defining relevant folders and paths",
   "id": "43f5a1ba7aece49e"
  },
  {
   "metadata": {},
   "cell_type": "code",
   "source": [
    "test = '/Users/fomo/Documents/Research/UNIC Research/Motor Evoked Potentials Test/MICE_EEG_2024 (93-102).csv'\n",
    "full = '/Users/fomo/Documents/Research/UNIC Research/Motor Evoked Potentials Test/MICE_EEG_2024 (93-257).csv'\n",
    "\n",
    "spreadsheet = pd.read_csv(full)\n",
    "\n",
    "master_folder = '/Volumes/STORAGE 1.0/UNIC Research/Motor Evoked Potentials/MEPSSEP_raw_data/post 93'\n",
    "test_folder = '/Users/fomo/Documents/Research/UNIC Research/Motor Evoked Potentials Test'\n",
    "\n",
    "spreadsheet"
   ],
   "id": "62b0483c58bdf3af",
   "outputs": [],
   "execution_count": null
  },
  {
   "metadata": {},
   "cell_type": "markdown",
   "source": "## extracting MEP matrices for all trials",
   "id": "6adf6d4b2a400b0b"
  },
  {
   "metadata": {},
   "cell_type": "code",
   "source": [
    "# list to store each trial\n",
    "sampling_rate = 30000\n",
    "\n",
    "all_extracted = []\n",
    "\n",
    "n = len(spreadsheet)\n",
    "for i in tqdm(range(0, n), desc=\"Processing trials\"):\n",
    "    if spreadsheet['sessionType'][i] == 'reject':\n",
    "        continue\n",
    "    else:\n",
    "        # relevant information\n",
    "        notes = spreadsheet.loc[i]\n",
    "        \n",
    "        # defining extractor object\n",
    "        extractor = Extractor(\n",
    "            master_folder=master_folder, \n",
    "            notes=notes,\n",
    "            recording_channels=[5, 7],\n",
    "            sampling_rate=sampling_rate,\n",
    "            pre_stimulus_ms=10,\n",
    "            post_stimulus_ms=100)\n",
    "        \n",
    "        # extracting relevant data\n",
    "        extracted = extractor.lazy(event_channel=13, export=True)\n",
    "    \n",
    "        all_extracted.append(extracted)"
   ],
   "id": "6ca7edaf4d3c68b",
   "outputs": [],
   "execution_count": null
  },
  {
   "metadata": {},
   "cell_type": "code",
   "source": [
    "# saving extracted data\n",
    "with open('/Users/fomo/Documents/Research/UNIC Research/Motor Evoked Potentials Test/extracted.pkl', 'wb') as f:\n",
    "    pickle.dump(all_extracted, f)"
   ],
   "id": "c6d6eb877e128950",
   "outputs": [],
   "execution_count": null
  },
  {
   "metadata": {
    "ExecuteTime": {
     "end_time": "2024-12-21T15:14:26.588981Z",
     "start_time": "2024-12-21T15:14:26.470696Z"
    }
   },
   "cell_type": "code",
   "source": [
    "# loading extracted data\n",
    "extract_location = '/Users/fomo/Documents/Research/UNIC Research/Motor Evoked Potentials Test/extracted.pkl'\n",
    "\n",
    "with open(extract_location, 'rb') as f:\n",
    "    extracted = pickle.load(f)"
   ],
   "id": "8ae532003d28da8a",
   "outputs": [],
   "execution_count": 2
  },
  {
   "metadata": {},
   "cell_type": "markdown",
   "source": "## trial classification and peak detection",
   "id": "11437708385a5bf8"
  },
  {
   "metadata": {
    "ExecuteTime": {
     "end_time": "2024-12-21T15:29:07.117875Z",
     "start_time": "2024-12-21T15:29:06.517734Z"
    }
   },
   "cell_type": "code",
   "source": [
    "viewer = Viewer(extracted = extracted, sampling_rate=30000)\n",
    "\n",
    "viewer.classifier()"
   ],
   "id": "7afe5d289d9a1637",
   "outputs": [
    {
     "data": {
      "text/plain": [
       "Output()"
      ],
      "application/vnd.jupyter.widget-view+json": {
       "version_major": 2,
       "version_minor": 0,
       "model_id": "af59080cb0c642a8b8c4423cec1716df"
      }
     },
     "metadata": {},
     "output_type": "display_data"
    },
    {
     "data": {
      "text/plain": [
       "HBox(children=(HBox(children=(IntText(value=0, description='Trial:', layout=Layout(width='150px')), BoundedInt…"
      ],
      "application/vnd.jupyter.widget-view+json": {
       "version_major": 2,
       "version_minor": 0,
       "model_id": "a1352bc53b4844db8a552228f4a96ec0"
      }
     },
     "metadata": {},
     "output_type": "display_data"
    },
    {
     "data": {
      "text/plain": [
       "HTML(value='<br>')"
      ],
      "application/vnd.jupyter.widget-view+json": {
       "version_major": 2,
       "version_minor": 0,
       "model_id": "dc725457a8af4402932293da5f24b8ef"
      }
     },
     "metadata": {},
     "output_type": "display_data"
    },
    {
     "data": {
      "text/plain": [
       "Output(layout=Layout(height='1000', width='95%'))"
      ],
      "application/vnd.jupyter.widget-view+json": {
       "version_major": 2,
       "version_minor": 0,
       "model_id": "9bce9480dd5a4cd8a77358cc3cd8778d"
      }
     },
     "metadata": {},
     "output_type": "display_data"
    },
    {
     "data": {
      "text/plain": [
       "HTML(value='<br>')"
      ],
      "application/vnd.jupyter.widget-view+json": {
       "version_major": 2,
       "version_minor": 0,
       "model_id": "dc725457a8af4402932293da5f24b8ef"
      }
     },
     "metadata": {},
     "output_type": "display_data"
    },
    {
     "data": {
      "text/plain": [
       "HBox(children=(Checkbox(value=False, description='Find Peaks'), HBox(children=(FloatText(value=0.1, descriptio…"
      ],
      "application/vnd.jupyter.widget-view+json": {
       "version_major": 2,
       "version_minor": 0,
       "model_id": "e7c4419dc150495cb8051736f5fd4009"
      }
     },
     "metadata": {},
     "output_type": "display_data"
    }
   ],
   "execution_count": 5
  },
  {
   "metadata": {
    "ExecuteTime": {
     "end_time": "2024-12-21T16:02:27.825601Z",
     "start_time": "2024-12-21T16:02:27.501593Z"
    }
   },
   "cell_type": "code",
   "source": [
    "accepted = viewer.accepted\n",
    "unsure = viewer.unsure\n",
    "rejected = viewer.rejected\n",
    "\n",
    "accepted_indices = viewer.accepted_indices\n",
    "unsure_indices = viewer.unsure_indices\n",
    "rejected_indices = viewer.rejected_indices\n",
    "\n",
    "classified_indices = {'accepted': accepted_indices, 'unsure': unsure_indices, 'rejected': rejected_indices}\n",
    "\n",
    "with open('/Users/fomo/Documents/Research/UNIC Research/Motor Evoked Potentials Test/accepted.pkl', 'wb') as f:\n",
    "    pickle.dump(accepted, f)\n",
    "\n",
    "with open('/Users/fomo/Documents/Research/UNIC Research/Motor Evoked Potentials Test/unsure.pkl', 'wb') as f:\n",
    "    pickle.dump(unsure, f)\n",
    "    \n",
    "with open('/Users/fomo/Documents/Research/UNIC Research/Motor Evoked Potentials Test/rejected.pkl', 'wb') as f:\n",
    "    pickle.dump(rejected, f)\n",
    "    \n",
    "with open('/Users/fomo/Documents/Research/UNIC Research/Motor Evoked Potentials Test/classified_indices.pkl', 'wb') as f:\n",
    "    pickle.dump(classified_indices, f)\n"
   ],
   "id": "6d97fbe2aacfcfa2",
   "outputs": [],
   "execution_count": 16
  },
  {
   "metadata": {},
   "cell_type": "code",
   "outputs": [],
   "execution_count": null,
   "source": [
    "with open('/Users/fomo/Documents/Research/UNIC Research/Motor Evoked Potentials Test/accepted.pkl', 'rb') as f:\n",
    "    accepted = pickle.load(f)\n",
    "\n",
    "with open('/Users/fomo/Documents/Research/UNIC Research/Motor Evoked Potentials Test/unsure.pkl', 'rb') as f:\n",
    "    unsure = pickle.load(f)\n",
    "\n",
    "with open('/Users/fomo/Documents/Research/UNIC Research/Motor Evoked Potentials Test/unsure.pkl', 'rb') as f:\n",
    "    classified_indices = pickle.load(f)"
   ],
   "id": "bec79728d395ddca"
  },
  {
   "metadata": {},
   "cell_type": "markdown",
   "source": "",
   "id": "7f1aa340a7a7640b"
  },
  {
   "metadata": {},
   "cell_type": "markdown",
   "source": "## peak selection (first detected peak)",
   "id": "d8d0504350825f70"
  },
  {
   "metadata": {},
   "cell_type": "code",
   "source": [
    "selected_peaks = []\n",
    "\n",
    "verify = []\n",
    "\n",
    "exclude = [44, 49, 50, 53, 55, 56, 57, 62, 63, 68, 73, 74, 80, 81, 86, 87, 92, 93, 94, 100, 101, 106, 107, 108, 109, 110, 111, 112, 113, 118, 123, 124, 125, 130, 131, 132, 134, 135, 137, 138, 140, 141, 142, 143]\n",
    "\n",
    "for trial in detected_peaks:\n",
    "    \n",
    "    if trial['index'] not in exclude:\n",
    "        \n",
    "        group = trial['group']\n",
    "        current = trial['current']\n",
    "        index = trial['index']\n",
    "        \n",
    "        # sort peaks by amplitude\n",
    "        largest_peaks = []\n",
    "        positive_peaks = (sorted(trial['positive peaks'], key=lambda x: x[1]))\n",
    "        negative_peaks = (sorted(trial['negative peaks'], key=lambda x: x[1]))\n",
    "        \n",
    "        if len(positive_peaks)>0:\n",
    "            largest_peaks.append(positive_peaks[-1])\n",
    "        if len(negative_peaks)>0:\n",
    "            largest_peaks.append(negative_peaks[-1])\n",
    "        \n",
    "        # sort peaks by time\n",
    "        largest_peaks = sorted(largest_peaks, key=lambda x: x[0])\n",
    "        \n",
    "        #first positive peak': positive_peaks[-1], 'first negative peak': negative_peaks[-1], \n",
    "        if len(largest_peaks) > 0:\n",
    "            selected_peaks.append({'group': group, 'current': current, 'first_large_peak': largest_peaks[0]})\n",
    "            if largest_peaks[0][0] <  345:\n",
    "                verify.append(index)\n",
    "\n",
    "seen = set()\n",
    "verify = [item for item in verify if item not in seen and not seen.add(item)]\n",
    "\n",
    "toVerify = []\n",
    "\n",
    "for index, value in enumerate(verify):\n",
    "    toVerify.append((extracted[value], value))"
   ],
   "id": "ea164069f05fb640",
   "outputs": [],
   "execution_count": null
  },
  {
   "metadata": {},
   "cell_type": "markdown",
   "source": "## plotting delays vs amplitude",
   "id": "d8df8f4899af35b8"
  },
  {
   "metadata": {},
   "cell_type": "code",
   "source": [
    "conversion = (1 / sampling_rate) * 1000\n",
    "\n",
    "# Extract delays, amplitudes, and groups\n",
    "delays = [peak['first_large_peak'][0]*conversion - 10 for peak in selected_peaks]\n",
    "amplitudes = [peak['first_large_peak'][1] for peak in selected_peaks]\n",
    "groups = [peak['group'] for peak in selected_peaks]\n",
    "currents = [peak['current'] for peak in selected_peaks]\n",
    "\n",
    "# min-max scaling current\n",
    "from sklearn.preprocessing import MinMaxScaler\n",
    "\n",
    "currents_2d = [[x] for x in currents] # 2-D array for MinMaxScaler() \n",
    "scaler = MinMaxScaler()\n",
    "scaled_currents = scaler.fit_transform(currents_2d).flatten()\n",
    "\n",
    "# separate data by group\n",
    "group1_delays = [delays[i] for i in range(len(groups)) if groups[i] == 1]\n",
    "group1_amplitudes = [amplitudes[i] for i in range(len(groups)) if groups[i] == 1]\n",
    "group2_delays = [delays[i] for i in range(len(groups)) if groups[i] == 2]\n",
    "group2_amplitudes = [amplitudes[i] for i in range(len(groups)) if groups[i] == 2]\n",
    "\n",
    "# calculate means and standard deviations for delays and amplitudes for each group\n",
    "mean_delay_1, std_delay_1 = np.mean(group1_delays), np.std(group1_delays)\n",
    "mean_amplitude_1, std_amplitude_1 = np.mean(group1_amplitudes), np.std(group1_amplitudes)\n",
    "\n",
    "mean_delay_2, std_delay_2 = np.mean(group2_delays), np.std(group2_delays)\n",
    "mean_amplitude_2, std_amplitude_2 = np.mean(group2_amplitudes), np.std(group2_amplitudes)\n",
    "\n",
    "# plotting\n",
    "from matplotlib.colors import ListedColormap, colorConverter\n",
    "\n",
    "plt.figure(figsize=(14, 7))\n",
    "plt.scatter(delays, amplitudes, c=groups, cmap=ListedColormap( ['green', 'red']), alpha=scaled_currents)\n",
    "\n",
    "# group 1 with error bars\n",
    "plt.errorbar(mean_delay_1, mean_amplitude_1, xerr=std_delay_1, yerr=std_amplitude_1, fmt='o', color='green', label='Group 1', capsize=5)\n",
    "\n",
    "# group 2 with error bars\n",
    "plt.errorbar(mean_delay_2, mean_amplitude_2, xerr=std_delay_2, yerr=std_amplitude_2, fmt='o', color='red', label='Group 2', capsize=5)\n",
    "\n",
    "# Adding labels and title\n",
    "plt.xlabel('Delay (ms)', fontsize=14)\n",
    "plt.ylabel('Amplitude (SDs)', fontsize=14)\n",
    "plt.title('Delays vs Amplitudes with Standard Deviation Error Bars', fontsize=17)\n",
    "plt.legend()\n",
    "plt.savefig('/Users/fomo/Desktop/delays_vs_amplitudes.png')\n",
    "plt.show()"
   ],
   "id": "47221e3131300226",
   "outputs": [],
   "execution_count": null
  },
  {
   "metadata": {},
   "cell_type": "markdown",
   "source": "## statistical tests",
   "id": "16f18b8abfd94b44"
  },
  {
   "metadata": {},
   "cell_type": "code",
   "source": [
    "from scipy.stats import ttest_ind, mannwhitneyu, shapiro\n",
    "\n",
    "shapiro_group1 = shapiro(group1_delays)\n",
    "shapiro_group2 = shapiro(group2_delays)\n",
    "\n",
    "print(\"Shapiro-Wilk test for Group 1 Delays: p-value =\", shapiro_group1.pvalue)\n",
    "print(\"Shapiro-Wilk test for Group 2 Delays: p-value =\", shapiro_group2.pvalue)\n",
    "\n",
    "# Determine if the data is normally distributed based on p-value > 0.05\n",
    "if shapiro_group1.pvalue > 0.05 and shapiro_group2.pvalue > 0.05:\n",
    "    # If data are approximately normal, use independent samples t-test\n",
    "    t_stat, p_value = ttest_ind(group1_delays, group2_delays, equal_var=False)  # Welch's t-test\n",
    "    print(\"Independent t-test p-value:\", p_value)\n",
    "else:\n",
    "    # If data are not normally distributed, use Mann-Whitney U test\n",
    "    u_stat, p_value = mannwhitneyu(group1_delays, group2_delays, alternative='two-sided')\n",
    "    print(\"Mann-Whitney U test p-value:\", p_value)\n",
    "\n",
    "alpha = 0.05  \n",
    "if p_value < alpha:\n",
    "    print(\"The difference in delays between Group 1 and Group 2 is statistically significant.\")\n",
    "else:\n",
    "    print(\"No statistically significant difference in delays between Group 1 and Group 2.\")\n"
   ],
   "id": "88417deafd0e843f",
   "outputs": [],
   "execution_count": null
  }
 ],
 "metadata": {
  "kernelspec": {
   "display_name": "Python 3",
   "language": "python",
   "name": "python3"
  },
  "language_info": {
   "codemirror_mode": {
    "name": "ipython",
    "version": 2
   },
   "file_extension": ".py",
   "mimetype": "text/x-python",
   "name": "python",
   "nbconvert_exporter": "python",
   "pygments_lexer": "ipython2",
   "version": "2.7.6"
  }
 },
 "nbformat": 4,
 "nbformat_minor": 5
}
