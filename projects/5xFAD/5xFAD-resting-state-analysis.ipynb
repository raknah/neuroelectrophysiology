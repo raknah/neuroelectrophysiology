{
 "cells": [
  {
   "cell_type": "markdown",
   "id": "8bb0400d",
   "metadata": {},
   "source": [
    "# 5xFAD Resting State Analysis\n",
    "\n",
    "Analysis of resting state EEG data from 5xFAD mice model."
   ]
  },
  {
   "cell_type": "markdown",
   "id": "f4768bac",
   "metadata": {},
   "source": [
    "## Setup and Dependencies"
   ]
  },
  {
   "cell_type": "code",
   "execution_count": null,
   "id": "d9e862f6",
   "metadata": {},
   "outputs": [],
   "source": [
    "using Pkg\n",
    "Pkg.activate(\"../..\")\n",
    "Pkg.status()\n",
    "include(\"../../modules/sessionIO/SessionIO.jl\")\n",
    "include(\"../../../zzz configs/custom/plotify.jl\")"
   ]
  },
  {
   "cell_type": "code",
   "execution_count": null,
   "id": "d187b0da",
   "metadata": {},
   "outputs": [],
   "source": [
    "using CairoMakie"
   ]
  },
  {
   "cell_type": "markdown",
   "id": "29c3598a",
   "metadata": {},
   "source": [
    "## Load Sessions"
   ]
  },
  {
   "cell_type": "code",
   "execution_count": null,
   "id": "f66c14bf",
   "metadata": {},
   "outputs": [],
   "source": [
    "sessions = begin\n",
    "\tdatapath = \"5xFAD-resting-state-preprocessed\"\n",
    "\tfiles = readdir(datapath)\n",
    "\t[from_hdf5(joinpath(datapath, file)) for file in files]\n",
    "end"
   ]
  },
  {
   "cell_type": "code",
   "execution_count": null,
   "id": "31cccbf7",
   "metadata": {},
   "outputs": [],
   "source": [
    "# Display available files\n",
    "println(\"Available session files:\")\n",
    "for (i, file) in enumerate(files)\n",
    "    println(\"$i. $file\")\n",
    "end"
   ]
  },
  {
   "cell_type": "markdown",
   "id": "f393b265",
   "metadata": {},
   "source": [
    "## Select Session\n",
    "\n",
    "Change the `selected_file_index` below to choose which session to analyze:"
   ]
  },
  {
   "cell_type": "code",
   "execution_count": null,
   "id": "095d3b20",
   "metadata": {},
   "outputs": [],
   "source": [
    "# Select which session to analyze (change this index)\n",
    "selected_file_index = 1\n",
    "selection = files[selected_file_index]\n",
    "\n",
    "println(\"Selected file: $selection\")"
   ]
  },
  {
   "cell_type": "code",
   "execution_count": null,
   "id": "08ab45b2",
   "metadata": {},
   "outputs": [],
   "source": [
    "# Load the selected session\n",
    "name = splitext(selection)[1]\n",
    "matching = filter(s -> s.session == name, sessions)\n",
    "if isempty(matching)\n",
    "\terror(\"no session found with ID: $selection\")\n",
    "elseif length(matching) > 1\n",
    "\t@warn \"Multiple sessions found with ID: $selection\"\n",
    "end\n",
    "session = first(matching)\n",
    "println(\"Session loaded: $(session.session)\")\n",
    "nothing"
   ]
  },
  {
   "cell_type": "markdown",
   "id": "a0b86902",
   "metadata": {},
   "source": [
    "## Session Information"
   ]
  },
  {
   "cell_type": "code",
   "execution_count": null,
   "id": "93c59a80",
   "metadata": {},
   "outputs": [],
   "source": [
    "println(\"Session ID: $(session.session)\")\n",
    "println(\"Sampling Rate: $(session.sampling_rate) Hz\")\n",
    "println(\"Data Shape: $(size(session.raw))\")\n",
    "println(\"Good Channels: $(session.good_channels)\")\n",
    "println(\"Number of Good Channels: $(length(session.good_channels))\")"
   ]
  },
  {
   "cell_type": "markdown",
   "id": "84d48ce6",
   "metadata": {},
   "source": [
    "### Raw EEG Visualization"
   ]
  },
  {
   "cell_type": "code",
   "execution_count": null,
   "id": "e7cfe381",
   "metadata": {},
   "outputs": [],
   "source": [
    "# Set sample range for visualization (adjust as needed)\n",
    "sample_start = 1\n",
    "sample_end = 1000\n",
    "sample_range = sample_start:sample_end\n",
    "\n",
    "println(\"Visualizing samples $sample_start to $sample_end\")"
   ]
  },
  {
   "cell_type": "code",
   "execution_count": null,
   "id": "f5931bb8",
   "metadata": {},
   "outputs": [],
   "source": [
    "fig = Figure(size = (900, 450))\n",
    "ax = plotify(\n",
    "\tfig,\n",
    "\tposition = [1,1],\n",
    "\ttitle = \"Resting State EEG (RAW)\",\n",
    "\txlabel = \"Time (ms)\",\n",
    "\tylabel = \"Amplitude\"\n",
    ")\n",
    "\n",
    "time_ms = (sample_range .- 1) .* 10\n",
    "\t\n",
    "for channel in 1:size(session.raw)[1]\n",
    "\tlines!(\n",
    "\t\tax,\n",
    "\t\ttime_ms,\n",
    "\t\tsession.raw[channel, sample_range],\n",
    "\t\tcolor = channel in session.good_channels ? (:darkcyan, 0.7) : (:red, 0.7)\n",
    "\t)\n",
    "end\n",
    "fig"
   ]
  },
  {
   "cell_type": "markdown",
   "id": "b51b5e7a",
   "metadata": {},
   "source": [
    "### Bandpower Analysis\n",
    "\n",
    "Implementation of multitaper spectral estimation and bandpower computation:"
   ]
  },
  {
   "cell_type": "code",
   "execution_count": null,
   "id": "8564df38",
   "metadata": {},
   "outputs": [],
   "source": [
    "using DSP, FFTW, Statistics, LinearAlgebra\n",
    "\n",
    "function dpss_tapers(N, NW, K)\n",
    "    \"\"\"Generate DPSS (Discrete Prolate Spheroidal Sequence) tapers\"\"\"\n",
    "    # Create the tridiagonal matrix for DPSS computation\n",
    "    w = 2π * NW / N\n",
    "    n = 0:N-1\n",
    "    \n",
    "    # Main diagonal\n",
    "    main_diag = ((N-1)/2 .- n).^2 .* cos(w)\n",
    "    \n",
    "    # Off diagonal\n",
    "    off_diag = n[2:end] .* (N .- n[2:end]) ./ 4\n",
    "    \n",
    "    # Create tridiagonal matrix\n",
    "    A = Tridiagonal(off_diag, main_diag, off_diag)\n",
    "    \n",
    "    # Compute eigenvalues and eigenvectors\n",
    "    λ, V = eigen(A)\n",
    "    \n",
    "    # Sort by eigenvalue (descending) and take first K\n",
    "    idx = sortperm(λ, rev=true)\n",
    "    tapers = V[:, idx[1:K]]'\n",
    "    \n",
    "    return tapers\n",
    "end\n",
    "\n",
    "function bandpower_analysis(session; bands=nothing, nw=2)\n",
    "    if bands === nothing\n",
    "        bands = Dict(\n",
    "            \"delta\" => (1, 4),\n",
    "            \"theta\" => (4, 8),\n",
    "            \"alpha\" => (8, 12),\n",
    "            \"beta\" => (12, 25),\n",
    "            \"gamma\" => (25, 50)\n",
    "        )\n",
    "    end\n",
    "    \n",
    "    fs = session.sampling_rate\n",
    "    epochs, channels, samples = size(session.data)\n",
    "    \n",
    "    # Create frequency vector\n",
    "    frequencies = rfftfreq(samples, fs)\n",
    "    \n",
    "    # Generate DPSS tapers\n",
    "    K = 2 * nw - 1\n",
    "    tapers = dpss_tapers(samples, nw, K)\n",
    "    \n",
    "    # Initialize arrays\n",
    "    psd = zeros(epochs, channels, length(frequencies))\n",
    "    features = zeros(epochs, channels, length(bands))\n",
    "    \n",
    "    # Compute bandpower for each epoch and channel\n",
    "    for epoch in 1:epochs\n",
    "        for channel in 1:channels\n",
    "            signal = session.data[epoch, channel, :]\n",
    "            spectrum_sum = zeros(length(frequencies))\n",
    "            \n",
    "            # Apply each taper and compute spectrum\n",
    "            for k in 1:K\n",
    "                tapered = signal .* tapers[k, :]\n",
    "                spectrum = abs.(rfft(tapered)).^2\n",
    "                spectrum_sum .+= spectrum\n",
    "            end\n",
    "            \n",
    "            # Average across tapers\n",
    "            psd[epoch, channel, :] = spectrum_sum ./ K\n",
    "            \n",
    "            # Compute bandpower for each frequency band\n",
    "            for (idx, (band_name, (low, high))) in enumerate(bands)\n",
    "                mask = (frequencies .>= low) .& (frequencies .<= high)\n",
    "                features[epoch, channel, idx] = sum(psd[epoch, channel, mask])\n",
    "            end\n",
    "        end\n",
    "    end\n",
    "    \n",
    "    return features, collect(keys(bands))\n",
    "end\n",
    "\n",
    "function logistic_scaler(features)\n",
    "    scaled = zeros(size(features))\n",
    "    epochs, channels, bands = size(features)\n",
    "    \n",
    "    for channel in 1:channels\n",
    "        for band in 1:bands\n",
    "            x = features[:, channel, band]\n",
    "            q1 = quantile(x, 0.25)\n",
    "            q3 = quantile(x, 0.75)\n",
    "            median_val = median(x)\n",
    "            IQR = q3 - q1\n",
    "            \n",
    "            if IQR == 0\n",
    "                # Fallback to min-max scaling\n",
    "                scaled[:, channel, band] = (x .- minimum(x)) ./ (maximum(x) - minimum(x))\n",
    "            else\n",
    "                λ = (2 * log(3)) / IQR\n",
    "                scaled[:, channel, band] = 1 ./ (1 .+ exp.(-λ .* (x .- median_val)))\n",
    "            end\n",
    "        end\n",
    "    end\n",
    "    \n",
    "    return scaled\n",
    "end\n",
    "\n",
    "println(\"Bandpower analysis functions defined!\")"
   ]
  },
  {
   "cell_type": "code",
   "execution_count": null,
   "id": "3918d431",
   "metadata": {},
   "outputs": [],
   "source": [
    "# Check if session has epoched data\n",
    "if hasfield(typeof(session), :data) && !isnothing(session.data)\n",
    "    println(\"Session has epoched data with shape: $(size(session.data))\")\n",
    "    \n",
    "    # Compute bandpower features\n",
    "    println(\"Computing bandpower features...\")\n",
    "    bandpower_features, band_names = bandpower_analysis(session)\n",
    "    \n",
    "    # Apply logistic scaling\n",
    "    println(\"Applying logistic scaling...\")\n",
    "    scaled_features = logistic_scaler(bandpower_features)\n",
    "    \n",
    "    println(\"Bandpower computation complete!\")\n",
    "    println(\"Feature shape: $(size(scaled_features))\")\n",
    "    println(\"Bands: $(band_names)\")\n",
    "else\n",
    "    println(\"Session does not have epoched data. Raw data shape: $(size(session.raw))\")\n",
    "    println(\"You may need to epoch the data first.\")\n",
    "end"
   ]
  },
  {
   "cell_type": "markdown",
   "id": "8f7c2a7b",
   "metadata": {},
   "source": [
    "### Bandpower Visualization\n",
    "\n",
    "Visualize the computed bandpower features:"
   ]
  },
  {
   "cell_type": "code",
   "execution_count": null,
   "id": "238ff339",
   "metadata": {},
   "outputs": [],
   "source": [
    "# Only run this cell if bandpower analysis was successful\n",
    "if @isdefined scaled_features\n",
    "    # Select epoch to visualize (change this as needed)\n",
    "    epoch_idx = 1\n",
    "    \n",
    "    fig_bp = Figure(size = (1000, 600))\n",
    "    \n",
    "    # Only plot good channels\n",
    "    good_ch_data = scaled_features[epoch_idx, session.good_channels, :]\n",
    "    \n",
    "    ax_bp = plotify(\n",
    "        fig_bp,\n",
    "        position = [1,1],\n",
    "        title = \"Bandpower Features (Epoch $epoch_idx)\",\n",
    "        xlabel = \"Channels\",\n",
    "        ylabel = \"Scaled Bandpower\"\n",
    "    )\n",
    "    \n",
    "    # Plot each frequency band\n",
    "    colors = [:red, :orange, :green, :blue, :purple]\n",
    "    for (i, band) in enumerate(band_names)\n",
    "        scatter!(\n",
    "            ax_bp,\n",
    "            1:length(session.good_channels),\n",
    "            good_ch_data[:, i],\n",
    "            color = colors[i],\n",
    "            label = band,\n",
    "            markersize = 8\n",
    "        )\n",
    "    end\n",
    "    \n",
    "    axislegend(ax_bp, position = :rt)\n",
    "    fig_bp\n",
    "else\n",
    "    println(\"Bandpower features not computed yet. Run the bandpower analysis cell first.\")\n",
    "end"
   ]
  }
 ],
 "metadata": {
  "language_info": {
   "name": "python"
  }
 },
 "nbformat": 4,
 "nbformat_minor": 5
}
